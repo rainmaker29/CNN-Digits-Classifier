{
  "nbformat": 4,
  "nbformat_minor": 0,
  "metadata": {
    "colab": {
      "name": "digitsnn.ipynb",
      "provenance": [],
      "collapsed_sections": []
    },
    "kernelspec": {
      "name": "python3",
      "display_name": "Python 3"
    }
  },
  "cells": [
    {
      "cell_type": "code",
      "metadata": {
        "id": "V9CAZIl6t-UC",
        "colab_type": "code",
        "colab": {
          "base_uri": "https://localhost:8080/",
          "height": 98
        },
        "outputId": "b01749a1-04ad-43e5-935f-ffa460e8950a"
      },
      "source": [
        "import pandas as pd\n",
        "import numpy as np\n",
        "import matplotlib.pyplot as plt\n",
        "import seaborn as sns\n",
        "import tensorflow as tf\n",
        "%matplotlib inline\n",
        "\n",
        "np.random.seed(2)\n",
        "\n",
        "from sklearn.model_selection import train_test_split\n",
        "from sklearn.metrics import confusion_matrix\n",
        "import itertools\n",
        "\n",
        "from keras.utils.np_utils import to_categorical\n",
        "from keras.models import Sequential\n",
        "\n",
        "#Importing all the required layers\n",
        "\n",
        "from keras.layers import Dense,Dropout,Flatten,Conv2D,MaxPool2D\n",
        "from keras.optimizers import RMSprop\n",
        "from keras.preprocessing.image import ImageDataGenerator\n",
        "from keras.callbacks import ReduceLROnPlateau"
      ],
      "execution_count": 1,
      "outputs": [
        {
          "output_type": "display_data",
          "data": {
            "text/html": [
              "<p style=\"color: red;\">\n",
              "The default version of TensorFlow in Colab will soon switch to TensorFlow 2.x.<br>\n",
              "We recommend you <a href=\"https://www.tensorflow.org/guide/migrate\" target=\"_blank\">upgrade</a> now \n",
              "or ensure your notebook will continue to use TensorFlow 1.x via the <code>%tensorflow_version 1.x</code> magic:\n",
              "<a href=\"https://colab.research.google.com/notebooks/tensorflow_version.ipynb\" target=\"_blank\">more info</a>.</p>\n"
            ],
            "text/plain": [
              "<IPython.core.display.HTML object>"
            ]
          },
          "metadata": {
            "tags": []
          }
        },
        {
          "output_type": "stream",
          "text": [
            "Using TensorFlow backend.\n"
          ],
          "name": "stderr"
        }
      ]
    },
    {
      "cell_type": "code",
      "metadata": {
        "id": "2nYmwF5fuONM",
        "colab_type": "code",
        "outputId": "0b45d220-b50a-4345-e27b-f5acc9b7d2e7",
        "colab": {
          "base_uri": "https://localhost:8080/",
          "height": 124
        }
      },
      "source": [
        "from google.colab import drive\n",
        "drive.mount('/content/drive')\n"
      ],
      "execution_count": 2,
      "outputs": [
        {
          "output_type": "stream",
          "text": [
            "Go to this URL in a browser: https://accounts.google.com/o/oauth2/auth?client_id=947318989803-6bn6qk8qdgf4n4g3pfee6491hc0brc4i.apps.googleusercontent.com&redirect_uri=urn%3aietf%3awg%3aoauth%3a2.0%3aoob&response_type=code&scope=email%20https%3a%2f%2fwww.googleapis.com%2fauth%2fdocs.test%20https%3a%2f%2fwww.googleapis.com%2fauth%2fdrive%20https%3a%2f%2fwww.googleapis.com%2fauth%2fdrive.photos.readonly%20https%3a%2f%2fwww.googleapis.com%2fauth%2fpeopleapi.readonly\n",
            "\n",
            "Enter your authorization code:\n",
            "··········\n",
            "Mounted at /content/drive\n"
          ],
          "name": "stdout"
        }
      ]
    },
    {
      "cell_type": "code",
      "metadata": {
        "id": "zmS2dNyPuS3Q",
        "colab_type": "code",
        "colab": {}
      },
      "source": [
        "train = pd.read_csv('/content/drive/My Drive/digit_data/train.csv')\n",
        "test = pd.read_csv('/content/drive/My Drive/digit_data/test.csv')\n"
      ],
      "execution_count": 0,
      "outputs": []
    },
    {
      "cell_type": "code",
      "metadata": {
        "id": "9qvZrc5DxVyM",
        "colab_type": "code",
        "outputId": "e9eeb1d4-5442-485c-c110-75dbab188d83",
        "colab": {
          "base_uri": "https://localhost:8080/",
          "height": 121
        }
      },
      "source": [
        "train.columns"
      ],
      "execution_count": 5,
      "outputs": [
        {
          "output_type": "execute_result",
          "data": {
            "text/plain": [
              "Index(['label', 'pixel0', 'pixel1', 'pixel2', 'pixel3', 'pixel4', 'pixel5',\n",
              "       'pixel6', 'pixel7', 'pixel8',\n",
              "       ...\n",
              "       'pixel774', 'pixel775', 'pixel776', 'pixel777', 'pixel778', 'pixel779',\n",
              "       'pixel780', 'pixel781', 'pixel782', 'pixel783'],\n",
              "      dtype='object', length=785)"
            ]
          },
          "metadata": {
            "tags": []
          },
          "execution_count": 5
        }
      ]
    },
    {
      "cell_type": "markdown",
      "metadata": {
        "id": "FLtjSeavyP7w",
        "colab_type": "text"
      },
      "source": [
        "Each image in our data has 784 pixels"
      ]
    },
    {
      "cell_type": "code",
      "metadata": {
        "id": "oo6B_TTBxzBz",
        "colab_type": "code",
        "colab": {}
      },
      "source": [
        "Y_train = train['label']\n",
        "X_train = train.drop(['label'],axis=1)"
      ],
      "execution_count": 0,
      "outputs": []
    },
    {
      "cell_type": "code",
      "metadata": {
        "id": "-YbVWaI-yYCB",
        "colab_type": "code",
        "colab": {}
      },
      "source": [
        "del train"
      ],
      "execution_count": 0,
      "outputs": []
    },
    {
      "cell_type": "code",
      "metadata": {
        "id": "SBo8r5IEyZWs",
        "colab_type": "code",
        "outputId": "e82cff5c-ab20-4bb2-d2a7-f32d3e58482a",
        "colab": {
          "base_uri": "https://localhost:8080/",
          "height": 296
        }
      },
      "source": [
        "sns.countplot(Y_train)"
      ],
      "execution_count": 8,
      "outputs": [
        {
          "output_type": "execute_result",
          "data": {
            "text/plain": [
              "<matplotlib.axes._subplots.AxesSubplot at 0x7f000d7f7588>"
            ]
          },
          "metadata": {
            "tags": []
          },
          "execution_count": 8
        },
        {
          "output_type": "display_data",
          "data": {
            "image/png": "[encoded data removed]",
            "text/plain": [
              "<Figure size 432x288 with 1 Axes>"
            ]
          },
          "metadata": {
            "tags": []
          }
        }
      ]
    },
    {
      "cell_type": "code",
      "metadata": {
        "id": "nnZSO1gQy45r",
        "colab_type": "code",
        "outputId": "8838a285-43d6-46f2-977b-e440900a5ce9",
        "colab": {
          "base_uri": "https://localhost:8080/",
          "height": 208
        }
      },
      "source": [
        "Y_train.value_counts()"
      ],
      "execution_count": 9,
      "outputs": [
        {
          "output_type": "execute_result",
          "data": {
            "text/plain": [
              "1    4684\n",
              "7    4401\n",
              "3    4351\n",
              "9    4188\n",
              "2    4177\n",
              "6    4137\n",
              "0    4132\n",
              "4    4072\n",
              "8    4063\n",
              "5    3795\n",
              "Name: label, dtype: int64"
            ]
          },
          "metadata": {
            "tags": []
          },
          "execution_count": 9
        }
      ]
    },
    {
      "cell_type": "code",
      "metadata": {
        "id": "cLGqQbg7zBja",
        "colab_type": "code",
        "outputId": "552cab52-cda2-470b-c5ea-ad8acc8e2b4a",
        "colab": {
          "base_uri": "https://localhost:8080/",
          "height": 34
        }
      },
      "source": [
        "X_train.isna().any().sum()"
      ],
      "execution_count": 10,
      "outputs": [
        {
          "output_type": "execute_result",
          "data": {
            "text/plain": [
              "0"
            ]
          },
          "metadata": {
            "tags": []
          },
          "execution_count": 10
        }
      ]
    },
    {
      "cell_type": "code",
      "metadata": {
        "id": "VNL_wHjyzMlm",
        "colab_type": "code",
        "outputId": "62b25e17-f49d-4b71-bbd2-bc859b0eef4a",
        "colab": {
          "base_uri": "https://localhost:8080/",
          "height": 34
        }
      },
      "source": [
        "Y_train.isna().any().sum()"
      ],
      "execution_count": 11,
      "outputs": [
        {
          "output_type": "execute_result",
          "data": {
            "text/plain": [
              "0"
            ]
          },
          "metadata": {
            "tags": []
          },
          "execution_count": 11
        }
      ]
    },
    {
      "cell_type": "code",
      "metadata": {
        "id": "7d5Jd3HhzRS4",
        "colab_type": "code",
        "colab": {}
      },
      "source": [
        "#Normalizing data as 0 to 255 is a long range "
      ],
      "execution_count": 0,
      "outputs": []
    },
    {
      "cell_type": "code",
      "metadata": {
        "id": "pnwYx7qM1X9T",
        "colab_type": "code",
        "colab": {}
      },
      "source": [
        "X_train = X_train/255\n",
        "test = test/255"
      ],
      "execution_count": 0,
      "outputs": []
    },
    {
      "cell_type": "code",
      "metadata": {
        "id": "DOF-bi7o1cp-",
        "colab_type": "code",
        "colab": {}
      },
      "source": [
        "X_train = X_train.values.reshape(-1,28,28,1)\n",
        "test = test.values.reshape(-1,28,28,1)"
      ],
      "execution_count": 0,
      "outputs": []
    },
    {
      "cell_type": "code",
      "metadata": {
        "id": "c5YkET-01_kx",
        "colab_type": "code",
        "colab": {}
      },
      "source": [
        "# One hot encoding or Categorical Encoding"
      ],
      "execution_count": 0,
      "outputs": []
    },
    {
      "cell_type": "code",
      "metadata": {
        "id": "onnKgU942Ijn",
        "colab_type": "code",
        "colab": {}
      },
      "source": [
        "Y_train = to_categorical(Y_train,num_classes=10)"
      ],
      "execution_count": 0,
      "outputs": []
    },
    {
      "cell_type": "code",
      "metadata": {
        "id": "PBjuRPJk2KPf",
        "colab_type": "code",
        "colab": {
          "base_uri": "https://localhost:8080/",
          "height": 34
        },
        "outputId": "797fcf27-d9e3-460b-9c3c-52bf4225baa7"
      },
      "source": [
        "import sklearn\n",
        "print(sklearn.__version__)"
      ],
      "execution_count": 18,
      "outputs": [
        {
          "output_type": "stream",
          "text": [
            "0.22.1\n"
          ],
          "name": "stdout"
        }
      ]
    },
    {
      "cell_type": "code",
      "metadata": {
        "id": "BpzbRSzT2gh3",
        "colab_type": "code",
        "colab": {}
      },
      "source": [
        "random_seed = 2\n",
        "\n",
        "\n",
        "X_train,X_val,Y_train,Y_val  = train_test_split(X_train,Y_train,test_size=0.1,random_state=random_seed)"
      ],
      "execution_count": 0,
      "outputs": []
    },
    {
      "cell_type": "code",
      "metadata": {
        "id": "xBx05kuO2601",
        "colab_type": "code",
        "colab": {
          "base_uri": "https://localhost:8080/",
          "height": 265
        },
        "outputId": "a55935e8-274d-46b5-dc89-20051fc059c0"
      },
      "source": [
        "g = plt.imshow(X_train[0][:28,:28,0])"
      ],
      "execution_count": 27,
      "outputs": [
        {
          "output_type": "display_data",
          "data": {
            "image/png": "[encoded data removed]",
            "text/plain": [
              "<Figure size 432x288 with 1 Axes>"
            ]
          },
          "metadata": {
            "tags": []
          }
        }
      ]
    },
    {
      "cell_type": "markdown",
      "metadata": {
        "id": "WT8aOPk18qI8",
        "colab_type": "text"
      },
      "source": [
        "Building CNN"
      ]
    },
    {
      "cell_type": "code",
      "metadata": {
        "id": "IDlquwbL3Ml3",
        "colab_type": "code",
        "colab": {}
      },
      "source": [
        "model = Sequential()\n",
        "\n",
        "model.add(Conv2D(filters=32,kernel_size=(5,5),padding='Same',activation='relu',input_shape=(28,28,1)))\n",
        "model.add(Conv2D(filters=32,kernel_size=(5,5),padding='Same',activation='relu'))\n",
        "\n",
        "model.add(MaxPool2D(pool_size=(2,2)))\n",
        "\n",
        "model.add(Dropout(0.25))\n",
        "\n",
        "model.add(Conv2D(filters=64,kernel_size=(3,3),padding='Same',activation='relu',))\n",
        "model.add(Conv2D(filters=64,kernel_size=(3,3),padding='Same',activation='relu',))\n",
        "\n",
        "model.add(MaxPool2D(pool_size=(2,2),strides=(2,2)))\n",
        "model.add(Dropout(0.5))\n",
        "\n",
        "model.add(Flatten())\n",
        "model.add(Dense(256, activation='relu'))\n",
        "model.add(Dropout(0.5))\n",
        "model.add(Dense(10,activation='softmax'))"
      ],
      "execution_count": 0,
      "outputs": []
    },
    {
      "cell_type": "code",
      "metadata": {
        "id": "G_lJjkTk-P57",
        "colab_type": "code",
        "colab": {}
      },
      "source": [
        "# Setting the optimizer,cost function and scoring metric"
      ],
      "execution_count": 0,
      "outputs": []
    },
    {
      "cell_type": "code",
      "metadata": {
        "id": "hTp9rh75_iRi",
        "colab_type": "code",
        "colab": {}
      },
      "source": [
        "optimizer = RMSprop(lr=0.001, rho = 0.9, epsilon=1e-08, decay=0.0)"
      ],
      "execution_count": 0,
      "outputs": []
    },
    {
      "cell_type": "code",
      "metadata": {
        "id": "5MIR74Sj_7Fh",
        "colab_type": "code",
        "colab": {
          "base_uri": "https://localhost:8080/",
          "height": 106
        },
        "outputId": "4b9a9c11-e3c5-48b9-c7ca-fb4179e0ba58"
      },
      "source": [
        "model.compile(optimizer = optimizer, loss = 'categorical_crossentropy', metrics=['accuracy'])"
      ],
      "execution_count": 31,
      "outputs": [
        {
          "output_type": "stream",
          "text": [
            "WARNING:tensorflow:From /usr/local/lib/python3.6/dist-packages/keras/optimizers.py:793: The name tf.train.Optimizer is deprecated. Please use tf.compat.v1.train.Optimizer instead.\n",
            "\n",
            "WARNING:tensorflow:From /usr/local/lib/python3.6/dist-packages/keras/backend/tensorflow_backend.py:3576: The name tf.log is deprecated. Please use tf.math.log instead.\n",
            "\n"
          ],
          "name": "stdout"
        }
      ]
    },
    {
      "cell_type": "code",
      "metadata": {
        "id": "U1X-ebJDALAq",
        "colab_type": "code",
        "colab": {}
      },
      "source": [
        "# To decrease learning rate with each epoch, we use learning_rate_reduction"
      ],
      "execution_count": 0,
      "outputs": []
    },
    {
      "cell_type": "code",
      "metadata": {
        "id": "wWr4PROrBvUF",
        "colab_type": "code",
        "colab": {}
      },
      "source": [
        "learning_rate_reduction = ReduceLROnPlateau(monitor='val_acc',patience=3,verbose=1,factor=0.5,min_lr=0.00001)"
      ],
      "execution_count": 0,
      "outputs": []
    },
    {
      "cell_type": "code",
      "metadata": {
        "id": "kbvOA9TXB8yY",
        "colab_type": "code",
        "colab": {}
      },
      "source": [
        "epochs=30\n",
        "batch_size=86"
      ],
      "execution_count": 0,
      "outputs": []
    },
    {
      "cell_type": "markdown",
      "metadata": {
        "id": "X9PeEXBeCdCg",
        "colab_type": "text"
      },
      "source": [
        "### Data Augmentation\n",
        "\n",
        "Data Augmentation are techniques used to alter the data images. These are required to validate the images in which the digits are either larger than normal or not centered etc.\n",
        "\n",
        "Data Augmentation techniques make the model more robust"
      ]
    },
    {
      "cell_type": "code",
      "metadata": {
        "id": "BzeisDBuCCT_",
        "colab_type": "code",
        "colab": {}
      },
      "source": [
        "datagen = ImageDataGenerator(featurewise_center=False,\n",
        "                             samplewise_center=False,\n",
        "                             featurewise_std_normalization=False,\n",
        "                             samplewise_std_normalization=False,\n",
        "                             zca_whitening=False,\n",
        "                             rotation_range=0,\n",
        "                             zoom_range=0.1,\n",
        "                             width_shift_range=0.1,\n",
        "                             height_shift_range=0.1,\n",
        "                             )"
      ],
      "execution_count": 0,
      "outputs": []
    },
    {
      "cell_type": "code",
      "metadata": {
        "id": "48midznXF_1J",
        "colab_type": "code",
        "colab": {}
      },
      "source": [
        "datagen.fit(X_train)"
      ],
      "execution_count": 0,
      "outputs": []
    },
    {
      "cell_type": "code",
      "metadata": {
        "id": "cgFxpSTbGIEd",
        "colab_type": "code",
        "colab": {
          "base_uri": "https://localhost:8080/",
          "height": 1000
        },
        "outputId": "cb0f0046-4ee2-44fa-a349-b2674133462e"
      },
      "source": [
        "history = model.fit_generator(datagen.flow(X_train,Y_train,batch_size=batch_size),\n",
        "                              epochs = epochs,\n",
        "                              validation_data=(X_val,Y_val),\n",
        "                              verbose=2,\n",
        "                              steps_per_epoch=X_train.shape[0]//batch_size,\n",
        "                              callbacks=[learning_rate_reduction])"
      ],
      "execution_count": 39,
      "outputs": [
        {
          "output_type": "stream",
          "text": [
            "WARNING:tensorflow:From /usr/local/lib/python3.6/dist-packages/tensorflow_core/python/ops/math_grad.py:1424: where (from tensorflow.python.ops.array_ops) is deprecated and will be removed in a future version.\n",
            "Instructions for updating:\n",
            "Use tf.where in 2.0, which has the same broadcast rule as np.where\n",
            "WARNING:tensorflow:From /usr/local/lib/python3.6/dist-packages/keras/backend/tensorflow_backend.py:1033: The name tf.assign_add is deprecated. Please use tf.compat.v1.assign_add instead.\n",
            "\n",
            "WARNING:tensorflow:From /usr/local/lib/python3.6/dist-packages/keras/backend/tensorflow_backend.py:1020: The name tf.assign is deprecated. Please use tf.compat.v1.assign instead.\n",
            "\n",
            "WARNING:tensorflow:From /usr/local/lib/python3.6/dist-packages/keras/backend/tensorflow_backend.py:3005: The name tf.Session is deprecated. Please use tf.compat.v1.Session instead.\n",
            "\n",
            "Epoch 1/30\n",
            "WARNING:tensorflow:From /usr/local/lib/python3.6/dist-packages/keras/backend/tensorflow_backend.py:190: The name tf.get_default_session is deprecated. Please use tf.compat.v1.get_default_session instead.\n",
            "\n",
            "WARNING:tensorflow:From /usr/local/lib/python3.6/dist-packages/keras/backend/tensorflow_backend.py:197: The name tf.ConfigProto is deprecated. Please use tf.compat.v1.ConfigProto instead.\n",
            "\n",
            "WARNING:tensorflow:From /usr/local/lib/python3.6/dist-packages/keras/backend/tensorflow_backend.py:207: The name tf.global_variables is deprecated. Please use tf.compat.v1.global_variables instead.\n",
            "\n",
            "WARNING:tensorflow:From /usr/local/lib/python3.6/dist-packages/keras/backend/tensorflow_backend.py:216: The name tf.is_variable_initialized is deprecated. Please use tf.compat.v1.is_variable_initialized instead.\n",
            "\n",
            "WARNING:tensorflow:From /usr/local/lib/python3.6/dist-packages/keras/backend/tensorflow_backend.py:223: The name tf.variables_initializer is deprecated. Please use tf.compat.v1.variables_initializer instead.\n",
            "\n",
            " - 261s - loss: 0.4885 - acc: 0.8452 - val_loss: 0.1010 - val_acc: 0.9714\n",
            "Epoch 2/30\n",
            " - 260s - loss: 0.1922 - acc: 0.9442 - val_loss: 0.0630 - val_acc: 0.9817\n",
            "Epoch 3/30\n",
            " - 259s - loss: 0.1592 - acc: 0.9559 - val_loss: 0.0594 - val_acc: 0.9814\n",
            "Epoch 4/30\n",
            " - 259s - loss: 0.1391 - acc: 0.9630 - val_loss: 0.0527 - val_acc: 0.9867\n",
            "Epoch 5/30\n",
            " - 260s - loss: 0.1341 - acc: 0.9653 - val_loss: 0.0399 - val_acc: 0.9895\n",
            "Epoch 6/30\n",
            " - 259s - loss: 0.1265 - acc: 0.9664 - val_loss: 0.0488 - val_acc: 0.9867\n",
            "Epoch 7/30\n",
            " - 260s - loss: 0.1201 - acc: 0.9698 - val_loss: 0.0369 - val_acc: 0.9886\n",
            "Epoch 8/30\n",
            " - 259s - loss: 0.1201 - acc: 0.9695 - val_loss: 0.0407 - val_acc: 0.9874\n",
            "\n",
            "Epoch 00008: ReduceLROnPlateau reducing learning rate to 0.0005000000237487257.\n",
            "Epoch 9/30\n",
            " - 261s - loss: 0.0843 - acc: 0.9780 - val_loss: 0.0398 - val_acc: 0.9893\n",
            "Epoch 10/30\n",
            " - 260s - loss: 0.0819 - acc: 0.9781 - val_loss: 0.0350 - val_acc: 0.9893\n",
            "Epoch 11/30\n",
            " - 260s - loss: 0.0783 - acc: 0.9794 - val_loss: 0.0326 - val_acc: 0.9886\n",
            "\n",
            "Epoch 00011: ReduceLROnPlateau reducing learning rate to 0.0002500000118743628.\n",
            "Epoch 12/30\n",
            " - 260s - loss: 0.0642 - acc: 0.9826 - val_loss: 0.0249 - val_acc: 0.9917\n",
            "Epoch 13/30\n",
            " - 259s - loss: 0.0630 - acc: 0.9817 - val_loss: 0.0259 - val_acc: 0.9917\n",
            "Epoch 14/30\n",
            " - 260s - loss: 0.0623 - acc: 0.9832 - val_loss: 0.0235 - val_acc: 0.9926\n",
            "Epoch 15/30\n",
            " - 260s - loss: 0.0599 - acc: 0.9829 - val_loss: 0.0309 - val_acc: 0.9905\n",
            "Epoch 16/30\n",
            " - 260s - loss: 0.0592 - acc: 0.9829 - val_loss: 0.0235 - val_acc: 0.9919\n",
            "Epoch 17/30\n",
            " - 260s - loss: 0.0601 - acc: 0.9835 - val_loss: 0.0236 - val_acc: 0.9929\n",
            "Epoch 18/30\n",
            " - 261s - loss: 0.0590 - acc: 0.9838 - val_loss: 0.0266 - val_acc: 0.9921\n",
            "Epoch 19/30\n",
            " - 260s - loss: 0.0580 - acc: 0.9838 - val_loss: 0.0257 - val_acc: 0.9926\n",
            "Epoch 20/30\n",
            " - 260s - loss: 0.0571 - acc: 0.9846 - val_loss: 0.0250 - val_acc: 0.9917\n",
            "\n",
            "Epoch 00020: ReduceLROnPlateau reducing learning rate to 0.0001250000059371814.\n",
            "Epoch 21/30\n",
            " - 259s - loss: 0.0512 - acc: 0.9858 - val_loss: 0.0218 - val_acc: 0.9931\n",
            "Epoch 22/30\n",
            " - 260s - loss: 0.0522 - acc: 0.9854 - val_loss: 0.0203 - val_acc: 0.9926\n",
            "Epoch 23/30\n",
            " - 260s - loss: 0.0479 - acc: 0.9861 - val_loss: 0.0244 - val_acc: 0.9926\n",
            "Epoch 24/30\n",
            " - 260s - loss: 0.0481 - acc: 0.9858 - val_loss: 0.0236 - val_acc: 0.9924\n",
            "\n",
            "Epoch 00024: ReduceLROnPlateau reducing learning rate to 6.25000029685907e-05.\n",
            "Epoch 25/30\n",
            " - 258s - loss: 0.0480 - acc: 0.9861 - val_loss: 0.0210 - val_acc: 0.9938\n",
            "Epoch 26/30\n",
            " - 258s - loss: 0.0489 - acc: 0.9863 - val_loss: 0.0197 - val_acc: 0.9931\n",
            "Epoch 27/30\n",
            " - 258s - loss: 0.0436 - acc: 0.9878 - val_loss: 0.0209 - val_acc: 0.9924\n",
            "Epoch 28/30\n",
            " - 259s - loss: 0.0461 - acc: 0.9867 - val_loss: 0.0211 - val_acc: 0.9926\n",
            "\n",
            "Epoch 00028: ReduceLROnPlateau reducing learning rate to 3.125000148429535e-05.\n",
            "Epoch 29/30\n",
            " - 259s - loss: 0.0433 - acc: 0.9879 - val_loss: 0.0204 - val_acc: 0.9936\n",
            "Epoch 30/30\n",
            " - 260s - loss: 0.0458 - acc: 0.9872 - val_loss: 0.0210 - val_acc: 0.9931\n"
          ],
          "name": "stdout"
        }
      ]
    },
    {
      "cell_type": "code",
      "metadata": {
        "id": "zpC0SZYdGt7c",
        "colab_type": "code",
        "colab": {}
      },
      "source": [
        "from yellowbrick.classifier import ConfusionMatrix"
      ],
      "execution_count": 0,
      "outputs": []
    },
    {
      "cell_type": "code",
      "metadata": {
        "id": "lHPHGZb7kxyb",
        "colab_type": "code",
        "colab": {}
      },
      "source": [
        "results = model.predict(test)\n",
        "\n",
        "results = np.argmax(results,axis=1)\n",
        "\n",
        "results = pd.Series(results,name='Label')"
      ],
      "execution_count": 0,
      "outputs": []
    },
    {
      "cell_type": "code",
      "metadata": {
        "id": "f0DwdHxAk-zU",
        "colab_type": "code",
        "colab": {
          "base_uri": "https://localhost:8080/",
          "height": 225
        },
        "outputId": "f77130ae-dcc1-41d2-d233-da37e65d537b"
      },
      "source": [
        "results"
      ],
      "execution_count": 45,
      "outputs": [
        {
          "output_type": "execute_result",
          "data": {
            "text/plain": [
              "0        2\n",
              "1        0\n",
              "2        9\n",
              "3        0\n",
              "4        3\n",
              "        ..\n",
              "27995    9\n",
              "27996    7\n",
              "27997    3\n",
              "27998    9\n",
              "27999    2\n",
              "Name: Label, Length: 28000, dtype: int64"
            ]
          },
          "metadata": {
            "tags": []
          },
          "execution_count": 45
        }
      ]
    },
    {
      "cell_type": "code",
      "metadata": {
        "id": "4c_2H1ZCm6bL",
        "colab_type": "code",
        "colab": {}
      },
      "source": [
        "submission = pd.concat([pd.Series(range(1,28001),name=\"ImageId\"),results],axis=1)\n",
        "\n",
        "submission.to_csv(\"digitsub1.csv\",index=False)"
      ],
      "execution_count": 0,
      "outputs": []
    },
    {
      "cell_type": "code",
      "metadata": {
        "id": "M39eVURlnQyk",
        "colab_type": "code",
        "colab": {}
      },
      "source": [
        "finalsub = pd.concat([pd.Series(range(1,28001),name=\"ImageId\"),results],axis=1)\n",
        "finalsub.to_csv(\"digitsub2.csv\",index=False)"
      ],
      "execution_count": 0,
      "outputs": []
    },
    {
      "cell_type": "code",
      "metadata": {
        "id": "Ig4NC8NknngU",
        "colab_type": "code",
        "colab": {}
      },
      "source": [
        "def plot_confusion_matrix(cm, classes,\n",
        "                          normalize=False,\n",
        "                          title='Confusion matrix',\n",
        "                          cmap=plt.cm.Blues):\n",
        "    plt.imshow(cm, interpolation='nearest', cmap=cmap)\n",
        "    plt.title(title)\n",
        "    plt.colorbar()\n",
        "    tick_marks = np.arange(len(classes))\n",
        "    plt.xticks(tick_marks, classes, rotation=45)\n",
        "    plt.yticks(tick_marks, classes)\n",
        "\n",
        "    if normalize:\n",
        "        cm = cm.astype('float') / cm.sum(axis=1)[:, np.newaxis]\n",
        "\n",
        "    thresh = cm.max() / 2.\n",
        "    for i, j in itertools.product(range(cm.shape[0]), range(cm.shape[1])):\n",
        "        plt.text(j, i, cm[i, j],\n",
        "                 horizontalalignment=\"center\",\n",
        "                 color=\"white\" if cm[i, j] > thresh else \"black\")\n",
        "\n",
        "    plt.tight_layout()\n",
        "    plt.ylabel('True label')\n",
        "    plt.xlabel('Predicted label')"
      ],
      "execution_count": 0,
      "outputs": []
    },
    {
      "cell_type": "code",
      "metadata": {
        "id": "2BvD9gb6yPxO",
        "colab_type": "code",
        "colab": {
          "base_uri": "https://localhost:8080/",
          "height": 415
        },
        "outputId": "19abc8d6-bc4e-4dab-e1ff-beb1a22d4ee2"
      },
      "source": [
        "\n",
        "\n",
        "Y_pred = model.predict(X_val)\n",
        "\n",
        "Y_pred_classes = np.argmax(Y_pred,axis = 1) \n",
        "\n",
        "Y_true = np.argmax(Y_val,axis = 1) \n",
        "\n",
        "confusion_mtx = confusion_matrix(Y_true, Y_pred_classes) \n",
        "\n",
        "plot_confusion_matrix(confusion_mtx, classes = range(10)) "
      ],
      "execution_count": 50,
      "outputs": [
        {
          "output_type": "display_data",
          "data": {
            "image/png": "[encoded data removed]",
            "text/plain": [
              "<Figure size 576x396 with 2 Axes>"
            ]
          },
          "metadata": {
            "tags": []
          }
        }
      ]
    },
    {
      "cell_type": "code",
      "metadata": {
        "id": "gzLXX8qPyUfc",
        "colab_type": "code",
        "colab": {}
      },
      "source": [
        ""
      ],
      "execution_count": 0,
      "outputs": []
    }
  ]
}